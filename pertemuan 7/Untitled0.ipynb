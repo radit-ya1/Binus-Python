{
  "nbformat": 4,
  "nbformat_minor": 0,
  "metadata": {
    "colab": {
      "provenance": []
    },
    "kernelspec": {
      "name": "python3",
      "display_name": "Python 3"
    },
    "language_info": {
      "name": "python"
    }
  },
  "cells": [
    {
      "cell_type": "code",
      "execution_count": 37,
      "metadata": {
        "colab": {
          "base_uri": "https://localhost:8080/"
        },
        "id": "WoTQDJ8B0-8o",
        "outputId": "4f2f8914-e48b-4c06-bd8f-2f098053d63b"
      },
      "outputs": [
        {
          "output_type": "stream",
          "name": "stdout",
          "text": [
            "        negara    ibukota    benua   area  populasi\n",
            "no                                                 \n",
            "1    indonesia   jakarata     asia   1905     264.0\n",
            "2        japan      tokyo     asia    377     124.0\n",
            "3        india  new delhi     asia   3287    1451.0\n",
            "4        china    beijing     asia   9597    1409.0\n",
            "5    singapure  sinagpure     asia      7       6.0\n",
            "6       brazil   brasilia  amerika   8515     212.0\n",
            "7       russia     moscow     asia  17098     143.0\n",
            "8       german     berlin    eropa    357      83.0\n",
            "9       poland     warsaw    eropa    312      36.0\n",
            "10     vatican    vatican    eropa      4       0.8\n",
            "372.88\n",
            "5772.201110110039\n"
          ]
        }
      ],
      "source": [
        "import pandas as pd\n",
        "\n",
        "df = pd.read_csv('negara.csv', index_col=0)\n",
        "\n",
        "mean = df.populasi.mean()\n",
        "std = df.area.std()\n",
        "\n",
        "print(df)\n",
        "print(mean)\n",
        "print(std)\n"
      ]
    },
    {
      "cell_type": "code",
      "source": [
        "import pandas as pd\n",
        "\n",
        "data = {\n",
        "    \"Country\": [\"vatican\", \"san marino\", \"singapura\", \"andora\", \"monaco\"],\n",
        "    \"Capital\": [\"vatican\", \"san marino\", \"singapura\", \"andora\", \"monaco\",],\n",
        "    \"Continent\": [\"eropa\", \"eropa\", \"Asia\", \"eropa\", \"Australia\"],\n",
        "    \"Area\": [44, 61, 735, 467, 203,],\n",
        "    \"Population\": [764, 3300, 6.000, 81.000, 3800,]\n",
        "}\n",
        "\n",
        "df = pd.read_csv('negara.csv', index_col=0) # Used to read a CSV file\n",
        "mean = df.populasi.mean()\n",
        "std = df.area.std()\n",
        "\n",
        "print(df)\n",
        "print(mean)\n",
        "print(std)\n"
      ],
      "metadata": {
        "colab": {
          "base_uri": "https://localhost:8080/"
        },
        "id": "ZL5c4Nfr-hLU",
        "outputId": "fd09f8f8-7771-4f00-d837-d485302b6de9"
      },
      "execution_count": 42,
      "outputs": [
        {
          "output_type": "stream",
          "name": "stdout",
          "text": [
            "        negara    ibukota    benua   area  populasi\n",
            "no                                                 \n",
            "1    indonesia   jakarata     asia   1905     264.0\n",
            "2        japan      tokyo     asia    377     124.0\n",
            "3        india  new delhi     asia   3287    1451.0\n",
            "4        china    beijing     asia   9597    1409.0\n",
            "5    singapure  sinagpure     asia      7       6.0\n",
            "6       brazil   brasilia  amerika   8515     212.0\n",
            "7       russia     moscow     asia  17098     143.0\n",
            "8       german     berlin    eropa    357      83.0\n",
            "9       poland     warsaw    eropa    312      36.0\n",
            "10     vatican    vatican    eropa      4       0.8\n",
            "372.88\n",
            "5772.201110110039\n"
          ]
        }
      ]
    }
  ]
}